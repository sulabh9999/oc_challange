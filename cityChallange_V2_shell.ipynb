{
  "nbformat": 4,
  "nbformat_minor": 0,
  "metadata": {
    "colab": {
      "name": "cityChallange_V2_shell.ipynb",
      "provenance": [],
      "collapsed_sections": []
    },
    "kernelspec": {
      "name": "python3",
      "display_name": "Python 3"
    },
    "accelerator": "GPU"
  },
  "cells": [
    {
      "cell_type": "code",
      "metadata": {
        "id": "87hEmO8dVmS1",
        "colab_type": "code",
        "colab": {
          "base_uri": "https://localhost:8080/",
          "height": 54
        },
        "outputId": "634ee3d3-38c0-414e-95e4-dd7565f96e9c"
      },
      "source": [
        "!pip3 install pystac > x\n",
        "!pip3 install robosat.pink > x"
      ],
      "execution_count": 1,
      "outputs": [
        {
          "output_type": "stream",
          "text": [
            "\u001b[31mERROR: albumentations 0.1.12 has requirement imgaug<0.2.7,>=0.2.5, but you'll have imgaug 0.2.9 which is incompatible.\u001b[0m\n"
          ],
          "name": "stdout"
        }
      ]
    },
    {
      "cell_type": "code",
      "metadata": {
        "id": "CSGk-BKdWA9B",
        "colab_type": "code",
        "colab": {}
      },
      "source": [
        "from pystac import (Catalog, CatalogType, Item, Asset, LabelItem, Collection)\n",
        "from urllib.parse import urlparse\n",
        "import requests\n",
        "from pystac import STAC_IO\n",
        "import csv\n",
        "\n",
        "def my_read_method(uri):\n",
        "    parsed = urlparse(uri)\n",
        "    if parsed.scheme.startswith('http'):\n",
        "        return requests.get(uri).text\n",
        "    else:\n",
        "        return STAC_IO.default_read_text_method(uri)\n",
        "\n",
        "STAC_IO.read_text_method = my_read_method"
      ],
      "execution_count": 0,
      "outputs": []
    },
    {
      "cell_type": "code",
      "metadata": {
        "id": "3X5P8x29WKZI",
        "colab_type": "code",
        "colab": {}
      },
      "source": [
        "train1_cat = Catalog.from_file('https://drivendata-competition-building-segmentation.s3-us-west-1.amazonaws.com/train_tier_1/catalog.json')\n",
        "train2_cat = Catalog.from_file('https://drivendata-competition-building-segmentation.s3-us-west-1.amazonaws.com/train_tier_2/catalog.json')\n",
        "test_cat = Catalog.from_file('https://drivendata-competition-building-segmentation.s3-us-west-1.amazonaws.com/test/catalog.json')"
      ],
      "execution_count": 0,
      "outputs": []
    },
    {
      "cell_type": "code",
      "metadata": {
        "id": "Qo74oX1vW610",
        "colab_type": "code",
        "outputId": "194fcf79-2108-426e-cb38-8ec498b0e499",
        "colab": {
          "base_uri": "https://localhost:8080/",
          "height": 17
        }
      },
      "source": [
        "%%shell\n",
        "rm -rf data\n",
        "mkdir -p data/tif data/geojson data/urls"
      ],
      "execution_count": 4,
      "outputs": [
        {
          "output_type": "execute_result",
          "data": {
            "text/plain": [
              ""
            ]
          },
          "metadata": {
            "tags": []
          },
          "execution_count": 4
        }
      ]
    },
    {
      "cell_type": "code",
      "metadata": {
        "id": "tXMfFfZDFJ-I",
        "colab_type": "code",
        "colab": {}
      },
      "source": [
        "def one_gig_geojson():\n",
        "  tif = 'https://drivendata-competition-building-segmentation.s3-us-west-1.amazonaws.com/train_tier_1/mon/f15272/f15272.tif'\n",
        "  geojson = 'https://drivendata-competition-building-segmentation.s3-us-west-1.amazonaws.com/train_tier_1/mon/f15272-labels/f15272.geojson'\n",
        "  with open('data/urls/urls.csv', mode='+w') as url_file:\n",
        "    url_writer = csv.writer(url_file, delimiter=',', quotechar='\"', quoting=csv.QUOTE_MINIMAL)    \n",
        "    url_writer.writerow([tif, geojson]) "
      ],
      "execution_count": 0,
      "outputs": []
    },
    {
      "cell_type": "code",
      "metadata": {
        "id": "8th7WDNx7MaT",
        "colab_type": "code",
        "colab": {}
      },
      "source": [
        "def store_dataset_urls(dataset_obj):\n",
        "  cols = {cols.id:cols for cols in dataset_obj.get_children()}\n",
        "  image_url = ''\n",
        "  label_url = ''\n",
        "\n",
        "  with open('data/urls/urls.csv', mode='+w') as url_file:\n",
        "      url_writer = csv.writer(url_file, delimiter=',', quotechar='\"', quoting=csv.QUOTE_MINIMAL)    \n",
        "      for k, v in cols.items():\n",
        "        for i in v.get_all_items():\n",
        "            if 'label' in i.id:\n",
        "              label_url = i.make_asset_hrefs_absolute().assets['labels'].href\n",
        "            else: \n",
        "              image_url = i.make_asset_hrefs_absolute().assets['image'].href\n",
        "            \n",
        "            if image_url and label_url:\n",
        "              url_writer.writerow([image_url, label_url])\n",
        "              image_url, label_url = '', ''\n",
        "     "
      ],
      "execution_count": 0,
      "outputs": []
    },
    {
      "cell_type": "code",
      "metadata": {
        "id": "w7tkYfztiIKf",
        "colab_type": "code",
        "colab": {
          "base_uri": "https://localhost:8080/",
          "height": 34
        },
        "outputId": "5a8952a6-85c1-4b73-eda9-ac13c1a9f9f5"
      },
      "source": [
        "# store_dataset_urls(train1_cat)\n",
        "one_gig_geojson()"
      ],
      "execution_count": 57,
      "outputs": [
        {
          "output_type": "stream",
          "text": [
            "exist\n"
          ],
          "name": "stdout"
        },
        {
          "output_type": "execute_result",
          "data": {
            "text/plain": [
              ""
            ]
          },
          "metadata": {
            "tags": []
          },
          "execution_count": 57
        }
      ]
    },
    {
      "cell_type": "code",
      "metadata": {
        "id": "GobBnNVuWsQI",
        "colab_type": "code",
        "colab": {}
      },
      "source": [
        "%%shell\n",
        "bash robosat_shell.sh config\n",
        "while IFS=, read -r tif_url geojson_url\n",
        "do\n",
        "    bash robosat_shell.sh clean\n",
        "    bash robosat_shell.sh preprocessing $tif_url $geojson_url \n",
        "    bash robosat_shell.sh train\n",
        "done < data/urls/urls.csv\n"
      ],
      "execution_count": 0,
      "outputs": []
    }
  ]
}